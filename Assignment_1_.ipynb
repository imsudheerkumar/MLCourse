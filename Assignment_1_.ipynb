{
  "nbformat": 4,
  "nbformat_minor": 0,
  "metadata": {
    "kernelspec": {
      "display_name": "Python 3",
      "language": "python",
      "name": "python3"
    },
    "language_info": {
      "codemirror_mode": {
        "name": "ipython",
        "version": 3
      },
      "file_extension": ".py",
      "mimetype": "text/x-python",
      "name": "python",
      "nbconvert_exporter": "python",
      "pygments_lexer": "ipython3",
      "version": "3.6.5"
    },
    "colab": {
      "name": "Assignment_1 .ipynb",
      "provenance": [],
      "include_colab_link": true
    }
  },
  "cells": [
    {
      "cell_type": "markdown",
      "metadata": {
        "id": "view-in-github",
        "colab_type": "text"
      },
      "source": [
        "<a href=\"https://colab.research.google.com/github/sudheer1122/MLCourse/blob/master/Assignment_1_.ipynb\" target=\"_parent\"><img src=\"https://colab.research.google.com/assets/colab-badge.svg\" alt=\"Open In Colab\"/></a>"
      ]
    },
    {
      "cell_type": "code",
      "metadata": {
        "id": "b-GxqCDjjuxr",
        "colab_type": "code",
        "colab": {},
        "outputId": "993dfc58-a2cc-4112-f42c-11ebcad6f5ee"
      },
      "source": [
        "# Task 1 -Q1\n",
        "\n",
        "Sequence_Numbers=[]\n",
        "for i in range(2000,3201):\n",
        "    if i%5==0 and i%7!=0:\n",
        "        Sequence_Numbers.append(i)\n",
        "        \n",
        "print(*Sequence_Numbers,sep=',')\n"
      ],
      "execution_count": 0,
      "outputs": [
        {
          "output_type": "stream",
          "text": [
            "2000,2005,2010,2015,2020,2025,2035,2040,2045,2050,2055,2060,2070,2075,2080,2085,2090,2095,2105,2110,2115,2120,2125,2130,2140,2145,2150,2155,2160,2165,2175,2180,2185,2190,2195,2200,2210,2215,2220,2225,2230,2235,2245,2250,2255,2260,2265,2270,2280,2285,2290,2295,2300,2305,2315,2320,2325,2330,2335,2340,2350,2355,2360,2365,2370,2375,2385,2390,2395,2400,2405,2410,2420,2425,2430,2435,2440,2445,2455,2460,2465,2470,2475,2480,2490,2495,2500,2505,2510,2515,2525,2530,2535,2540,2545,2550,2560,2565,2570,2575,2580,2585,2595,2600,2605,2610,2615,2620,2630,2635,2640,2645,2650,2655,2665,2670,2675,2680,2685,2690,2700,2705,2710,2715,2720,2725,2735,2740,2745,2750,2755,2760,2770,2775,2780,2785,2790,2795,2805,2810,2815,2820,2825,2830,2840,2845,2850,2855,2860,2865,2875,2880,2885,2890,2895,2900,2910,2915,2920,2925,2930,2935,2945,2950,2955,2960,2965,2970,2980,2985,2990,2995,3000,3005,3015,3020,3025,3030,3035,3040,3050,3055,3060,3065,3070,3075,3085,3090,3095,3100,3105,3110,3120,3125,3130,3135,3140,3145,3155,3160,3165,3170,3175,3180,3190,3195,3200\n"
          ],
          "name": "stdout"
        }
      ]
    },
    {
      "cell_type": "code",
      "metadata": {
        "id": "ETAPsutajux1",
        "colab_type": "code",
        "colab": {},
        "outputId": "6fda35c2-9a97-42c8-a0c2-8b143eb8e02f"
      },
      "source": [
        "#firstName and lastName reverse\n",
        "\n",
        "FirstName = input('Please enter your First Name :')\n",
        "LastName = input('Please enter your LastName :')\n",
        "\n",
        "print('Full Name in Reverse order : ' + FirstName[::-1] + \" \" + LastName[::-1])\n"
      ],
      "execution_count": 0,
      "outputs": [
        {
          "output_type": "stream",
          "text": [
            "Please enter your First Name :sudheer\n",
            "Please enter your LastName :kumar\n",
            "Full Name in Reverse order : reehdus ramuk\n"
          ],
          "name": "stdout"
        }
      ]
    },
    {
      "cell_type": "code",
      "metadata": {
        "id": "SkPBlFfnjux6",
        "colab_type": "code",
        "colab": {},
        "outputId": "e5c3f992-90db-4c22-a20c-f1d61a4f9346"
      },
      "source": [
        "#find volume of a sphere with diameter 12 cm.\n",
        "#Formula: V=4/3 * π * r 3\n",
        "\n",
        "Diameter=12\n",
        "PI=3.14\n",
        "Volume_of_Sphere= (4/3 * PI * ((Diameter/2)**3))\n",
        "print(Volume_of_Sphere)"
      ],
      "execution_count": 0,
      "outputs": [
        {
          "output_type": "stream",
          "text": [
            "904.3199999999999\n"
          ],
          "name": "stdout"
        }
      ]
    },
    {
      "cell_type": "code",
      "metadata": {
        "id": "UZMHLdNkjux-",
        "colab_type": "code",
        "colab": {},
        "outputId": "16709e5b-f734-4c4f-b0de-d7379291e998"
      },
      "source": [
        "#Task 2\n",
        "\n",
        "Comma_seperatedseq=input('Enter Number with comma seperation')\n",
        "print(Comma_seperatedseq.split(','))"
      ],
      "execution_count": 0,
      "outputs": [
        {
          "output_type": "stream",
          "text": [
            "Enter Number with comma seperation1,2,3,4,5\n",
            "['1', '2', '3', '4', '5']\n"
          ],
          "name": "stdout"
        }
      ]
    },
    {
      "cell_type": "code",
      "metadata": {
        "id": "jT9_1ihqjuyC",
        "colab_type": "code",
        "colab": {},
        "outputId": "a7a45014-5a49-4365-85a2-f1d87ae91e58"
      },
      "source": [
        "#word reverse\n",
        "Word=input('Enter a Word of your choice : ')\n",
        "print('Reverse of the Entered Word is : ' + Word[::-1])"
      ],
      "execution_count": 0,
      "outputs": [
        {
          "output_type": "stream",
          "text": [
            "Enter a Word of your choice : AcadGild\n",
            "Reverse of the Entered Word is : dliGdacA\n"
          ],
          "name": "stdout"
        }
      ]
    },
    {
      "cell_type": "code",
      "metadata": {
        "id": "2kdhs5GRjuyG",
        "colab_type": "code",
        "colab": {},
        "outputId": "74126a86-10c4-44ed-f0fd-0246185123ab"
      },
      "source": [
        "#string format\n",
        "string='WE, THE PEOPLE OF INDIA , \\n having solemnly resolved to constitute India,into a SOVEREIGN, ! \\n SOCIALIST, SECULAR, DEMOCRATIC REPUBLIC \\n and to secure to all its citizens'\n",
        "print(string)"
      ],
      "execution_count": 0,
      "outputs": [
        {
          "output_type": "stream",
          "text": [
            "WE, THE PEOPLE OF INDIA , \n",
            " having solemnly resolved to constitute India,into a SOVEREIGN, ! \n",
            " SOCIALIST, SECULAR, DEMOCRATIC REPUBLIC \n",
            " and to secure to all its citizens\n"
          ],
          "name": "stdout"
        }
      ]
    },
    {
      "cell_type": "code",
      "metadata": {
        "id": "YPMlrgtpjuyL",
        "colab_type": "code",
        "colab": {
          "base_uri": "https://localhost:8080/",
          "height": 187
        },
        "outputId": "194d3d5e-933a-4a17-b43e-6f1361372037"
      },
      "source": [
        "#pattern print\n",
        "NoofLines=5\n",
        "for i in range(1,NoofLines+1):\n",
        "  print('*'*i)\n",
        "\n",
        "for i in range(NoofLines,0,-1):\n",
        "  print('*'*i)\n",
        "  "
      ],
      "execution_count": 1,
      "outputs": [
        {
          "output_type": "stream",
          "text": [
            "*\n",
            "**\n",
            "***\n",
            "****\n",
            "*****\n",
            "*****\n",
            "****\n",
            "***\n",
            "**\n",
            "*\n"
          ],
          "name": "stdout"
        }
      ]
    }
  ]
}