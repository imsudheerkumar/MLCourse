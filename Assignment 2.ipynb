{
 "cells": [
  {
   "cell_type": "markdown",
   "metadata": {},
   "source": [
    "# Assignment 2"
   ]
  },
  {
   "cell_type": "markdown",
   "metadata": {},
   "source": [
    "# 1.1 - Myreduce function just like python buitin Reduce() function"
   ]
  },
  {
   "cell_type": "code",
   "execution_count": 1,
   "metadata": {},
   "outputs": [
    {
     "name": "stdout",
     "output_type": "stream",
     "text": [
      "18\n"
     ]
    }
   ],
   "source": [
    "def myreduce(anyfunc, sequence):\n",
    "  result = sequence[0]\n",
    "  for item in sequence[1:]:\n",
    "        result = anyfunc(result, item)\n",
    "\n",
    "  return result\n",
    "\n",
    "\n",
    "# testfunction\n",
    "def sum(x,y): return x*2 + y*2\n",
    "\n",
    "\n",
    "print((myreduce(sum, [1,2,3])))"
   ]
  },
  {
   "cell_type": "markdown",
   "metadata": {},
   "source": [
    "# 1.2 - Myfilter function just like python built in Filter() function"
   ]
  },
  {
   "cell_type": "code",
   "execution_count": 3,
   "metadata": {},
   "outputs": [
    {
     "data": {
      "text/plain": [
       "[2, 4, 6, 8]"
      ]
     },
     "execution_count": 3,
     "metadata": {},
     "output_type": "execute_result"
    }
   ],
   "source": [
    "def myfilter(yourfunction,listofvalues):\n",
    "    result_list=[]\n",
    "    for i in listofvalues:\n",
    "        if(yourfunction(i)):\n",
    "            result_list.append(i)\n",
    "    return result_list\n",
    "    \n",
    "#test function\n",
    "def even_check(num):\n",
    "    if num%2 ==0:\n",
    "        return True\n",
    "    \n",
    "lst =[1,2,3,4,5,6,7,8]\n",
    "myfilter(even_check,lst)"
   ]
  },
  {
   "cell_type": "markdown",
   "metadata": {},
   "source": [
    "# 2. List comprehensions"
   ]
  },
  {
   "cell_type": "code",
   "execution_count": 4,
   "metadata": {},
   "outputs": [
    {
     "name": "stdout",
     "output_type": "stream",
     "text": [
      "['A', 'C', 'A', 'D', 'G', 'I', 'L', 'D']\n"
     ]
    }
   ],
   "source": [
    "#2.1\n",
    "string=\"ACADGILD\"\n",
    "output_list = [letter for letter in string]\n",
    "print(output_list)"
   ]
  },
  {
   "cell_type": "code",
   "execution_count": 5,
   "metadata": {},
   "outputs": [
    {
     "name": "stdout",
     "output_type": "stream",
     "text": [
      "['x', 'xx', 'xxx', 'xxxx', 'y', 'yy', 'yyy', 'yyyy', 'z', 'zz', 'zzz', 'zzzz']\n"
     ]
    }
   ],
   "source": [
    "#2.2\n",
    "Multipleslist=[i*j for i in ['x','y','z'] for j in range(1,5)]\n",
    "print(Multipleslist)"
   ]
  },
  {
   "cell_type": "code",
   "execution_count": 6,
   "metadata": {},
   "outputs": [
    {
     "name": "stdout",
     "output_type": "stream",
     "text": [
      "['x', 'y', 'z', 'xx', 'yy', 'zz', 'xxx', 'yyy', 'zzz', 'xxxx', 'yyyy', 'zzzz']\n"
     ]
    }
   ],
   "source": [
    "#2.3\n",
    "\n",
    "Source_lst=['x','y','z']\n",
    "Destination_lst=[]\n",
    "for i in range(1,5):\n",
    "    for item in Source_lst :\n",
    "        Destination_lst.append(i*item)\n",
    "print(Destination_lst)"
   ]
  },
  {
   "cell_type": "code",
   "execution_count": 7,
   "metadata": {},
   "outputs": [
    {
     "name": "stdout",
     "output_type": "stream",
     "text": [
      "[[2], [3], [4], [3], [4], [5], [4], [5], [6]]\n"
     ]
    }
   ],
   "source": [
    "#2.4\n",
    "\n",
    "origin_list=[2,3,4]\n",
    "dest_list=[]\n",
    "for i in origin_list:\n",
    "    for j in range(0,3):\n",
    "        dest_list.append([i+j])\n",
    "        \n",
    "print(dest_list)"
   ]
  },
  {
   "cell_type": "code",
   "execution_count": 8,
   "metadata": {},
   "outputs": [
    {
     "name": "stdout",
     "output_type": "stream",
     "text": [
      "[[2, 3, 4, 5], [3, 4, 5, 6], [4, 5, 6, 7], [5, 6, 7, 8]]\n"
     ]
    }
   ],
   "source": [
    "#2.5\n",
    "\n",
    "origin_list=[2,3,4,5]\n",
    "dest_list=[[item+num for item in origin_list] for num in range(0,4) ]\n",
    "print(dest_list)"
   ]
  },
  {
   "cell_type": "code",
   "execution_count": 9,
   "metadata": {},
   "outputs": [
    {
     "name": "stdout",
     "output_type": "stream",
     "text": [
      "[(1, 1), (2, 1), (3, 1), (1, 2), (2, 2), (3, 2), (1, 3), (2, 3), (3, 3)]\n"
     ]
    }
   ],
   "source": [
    "#2.6\n",
    "\n",
    "Listset=[(j,i) for i in range(1,4) for j in range(1,4)]\n",
    "print(Listset)\n"
   ]
  },
  {
   "cell_type": "markdown",
   "metadata": {},
   "source": [
    "# 3. Longest Word"
   ]
  },
  {
   "cell_type": "code",
   "execution_count": 10,
   "metadata": {},
   "outputs": [
    {
     "data": {
      "text/plain": [
       "'rr'"
      ]
     },
     "execution_count": 10,
     "metadata": {},
     "output_type": "execute_result"
    }
   ],
   "source": [
    "WordswithLengthList=[]\n",
    "def longestWord(List_of_Words):\n",
    "    for word in List_of_Words:\n",
    "        WordswithLengthList.append((len(word),word))\n",
    "    WordswithLengthList.sort()\n",
    "    return WordswithLengthList[-1][1]\n",
    "\n",
    "#test list \n",
    "listof_Words=['y','rr','d']\n",
    "#function call\n",
    "longestWord(listof_Words)"
   ]
  },
  {
   "cell_type": "markdown",
   "metadata": {},
   "source": [
    "# Task 2 "
   ]
  },
  {
   "cell_type": "code",
   "execution_count": 11,
   "metadata": {},
   "outputs": [
    {
     "name": "stdout",
     "output_type": "stream",
     "text": [
      "1.7320508075688772\n"
     ]
    }
   ],
   "source": [
    "#1.1\n",
    "\n",
    "class LengthsofTriangle:\n",
    "    def __init__(self,a,b,c):\n",
    "        self.a=a\n",
    "        self.b=b\n",
    "        self.c=c\n",
    "\n",
    "class Calculatearea(LengthsofTriangle):\n",
    "    def __init__(self,a,b,c):\n",
    "        super().__init__(a,b,c)\n",
    "        \n",
    "        \n",
    "    def area(self):\n",
    "        s = (self.a+self.b+self.c)/2\n",
    "        return (s*(s-self.a)*(s-self.b)*(s-self.c)) ** 0.5\n",
    "    \n",
    "\n",
    "c= Calculatearea(2,2,2)\n",
    "print(c.area())"
   ]
  },
  {
   "cell_type": "code",
   "execution_count": 14,
   "metadata": {},
   "outputs": [
    {
     "data": {
      "text/plain": [
       "['adsasffsdf', 'bbbbbb', 'utrterteterteter']"
      ]
     },
     "execution_count": 14,
     "metadata": {},
     "output_type": "execute_result"
    }
   ],
   "source": [
    "#1.2 -A function which takes a listofwords and a integer 'n' and returns all the words > than 'n'\n",
    "\n",
    "def filter_long_words(listofwords,number):\n",
    "    newlist=[]\n",
    "    for i in listofwords:\n",
    "        if len(i)>number:\n",
    "            newlist.append(i)\n",
    "    return newlist\n",
    "\n",
    "#test\n",
    "wordlist=['adsasffsdf','aa','bbbbbb','cc','utrterteterteter','b','x'] \n",
    "filter_long_words(wordlist,5)\n",
    "\n"
   ]
  },
  {
   "cell_type": "code",
   "execution_count": 20,
   "metadata": {},
   "outputs": [
    {
     "data": {
      "text/plain": [
       "[3, 5, 6]"
      ]
     },
     "execution_count": 20,
     "metadata": {},
     "output_type": "execute_result"
    }
   ],
   "source": [
    "#2.1  function concept that maps list of words into a list of integers representing the lengths of the corresponding words\n",
    "def WordsLength(WordsList):\n",
    "    Lengthsof_Words=[]\n",
    "    for i in WordsList:\n",
    "        Lengthsof_Words.append(len(i))\n",
    "    return Lengthsof_Words\n",
    "\n",
    "#test\n",
    "Listof_Words=['abc','abcde','abcdef']\n",
    "WordsLength(Listof_Words)\n"
   ]
  },
  {
   "cell_type": "code",
   "execution_count": 26,
   "metadata": {},
   "outputs": [
    {
     "data": {
      "text/plain": [
       "True"
      ]
     },
     "execution_count": 26,
     "metadata": {},
     "output_type": "execute_result"
    }
   ],
   "source": [
    "#2.2  function which takes a character (i.e. a string of length 1) and returns True if it is a vowel, False otherwise.\n",
    "\n",
    "def isVowel(i):\n",
    "    letter = i.lower()\n",
    "    if letter in ['a','e','i','o','u']:\n",
    "        return True\n",
    "    else:\n",
    "        return False\n",
    "    \n",
    "isVowel('a')"
   ]
  },
  {
   "cell_type": "code",
   "execution_count": null,
   "metadata": {},
   "outputs": [],
   "source": []
  }
 ],
 "metadata": {
  "kernelspec": {
   "display_name": "Python 3",
   "language": "python",
   "name": "python3"
  },
  "language_info": {
   "codemirror_mode": {
    "name": "ipython",
    "version": 3
   },
   "file_extension": ".py",
   "mimetype": "text/x-python",
   "name": "python",
   "nbconvert_exporter": "python",
   "pygments_lexer": "ipython3",
   "version": "3.6.5"
  }
 },
 "nbformat": 4,
 "nbformat_minor": 2
}
